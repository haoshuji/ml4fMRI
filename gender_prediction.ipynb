{
 "cells": [
  {
   "cell_type": "code",
   "execution_count": 1,
   "metadata": {
    "collapsed": true
   },
   "outputs": [],
   "source": [
    "import sys\n",
    "import scipy.io as sio\n",
    "import os\n",
    "import numpy as np\n",
    "# sys.path.append('/home/astar/Dropbox/share(han-shuji)/KDE/bev/')\n",
    "# sys.path.append('/home/astar/Dropbox/share(han-shuji)/KDE/4_MRI2atlas_AAL_thr_2hao/')\n"
   ]
  },
  {
   "cell_type": "markdown",
   "metadata": {},
   "source": [
    "# prepare data into libsvm format"
   ]
  },
  {
   "cell_type": "code",
   "execution_count": 2,
   "metadata": {},
   "outputs": [
    {
     "name": "stdout",
     "output_type": "stream",
     "text": [
      "['demo', '__version__', '__header__', '__globals__']\n"
     ]
    }
   ],
   "source": [
    "\n",
    "label_path = '/home/astar/Dropbox/share(han-shuji)/KDE/bev/'\n",
    "labels_mat = sio.loadmat(os.path.join(label_path,'demo.mat'))\n",
    "print labels_mat.keys()"
   ]
  },
  {
   "cell_type": "code",
   "execution_count": 3,
   "metadata": {},
   "outputs": [
    {
     "name": "stdout",
     "output_type": "stream",
     "text": [
      "(441, 4)\n",
      "20071016_02\n",
      "(1, 1)\n"
     ]
    }
   ],
   "source": [
    "print labels_mat['demo'].shape\n",
    "print str(labels_mat['demo'][2,0][0])\n",
    "print labels_mat['demo'][3,2].shape"
   ]
  },
  {
   "cell_type": "code",
   "execution_count": 4,
   "metadata": {},
   "outputs": [
    {
     "name": "stdout",
     "output_type": "stream",
     "text": [
      "239 179\n"
     ]
    }
   ],
   "source": [
    "labels_dict = {}\n",
    "num_positive = 0\n",
    "num_negative = 0\n",
    "for i in range(1,labels_mat['demo'].shape[0]):\n",
    "    if len(labels_mat['demo'][i,2]) == 0:\n",
    "        continue\n",
    "    label_tmp = 0 if int(labels_mat['demo'][i,2][0,0]) == 2 else 1\n",
    "    if label_tmp == 0:\n",
    "        num_negative += 1\n",
    "    else:\n",
    "        num_positive += 1\n",
    "    labels_dict[str(labels_mat['demo'][i,0][0])] = label_tmp\n",
    "print num_negative, num_positive\n",
    "    "
   ]
  },
  {
   "cell_type": "code",
   "execution_count": 5,
   "metadata": {},
   "outputs": [
    {
     "name": "stdout",
     "output_type": "stream",
     "text": [
      "20080908_04  is not in  /home/astar/Dropbox/share(han-shuji)/KDE/4_MRI2atlas_AAL_thr_2hao/\n",
      "20081113_14  is not in  /home/astar/Dropbox/share(han-shuji)/KDE/4_MRI2atlas_AAL_thr_2hao/\n",
      "20081128_11  is not in  /home/astar/Dropbox/share(han-shuji)/KDE/4_MRI2atlas_AAL_thr_2hao/\n",
      "20080917_02  is not in  /home/astar/Dropbox/share(han-shuji)/KDE/4_MRI2atlas_AAL_thr_2hao/\n",
      "20081119_12  is not in  /home/astar/Dropbox/share(han-shuji)/KDE/4_MRI2atlas_AAL_thr_2hao/\n",
      "20081107_08  is not in  /home/astar/Dropbox/share(han-shuji)/KDE/4_MRI2atlas_AAL_thr_2hao/\n",
      "20081210_13  is not in  /home/astar/Dropbox/share(han-shuji)/KDE/4_MRI2atlas_AAL_thr_2hao/\n",
      "20081203_11  is not in  /home/astar/Dropbox/share(han-shuji)/KDE/4_MRI2atlas_AAL_thr_2hao/\n",
      "20081118_04  is not in  /home/astar/Dropbox/share(han-shuji)/KDE/4_MRI2atlas_AAL_thr_2hao/\n",
      "20081110_09  is not in  /home/astar/Dropbox/share(han-shuji)/KDE/4_MRI2atlas_AAL_thr_2hao/\n",
      "20081114_08  is not in  /home/astar/Dropbox/share(han-shuji)/KDE/4_MRI2atlas_AAL_thr_2hao/\n",
      "20081210_07  is not in  /home/astar/Dropbox/share(han-shuji)/KDE/4_MRI2atlas_AAL_thr_2hao/\n",
      "20081126_02  is not in  /home/astar/Dropbox/share(han-shuji)/KDE/4_MRI2atlas_AAL_thr_2hao/\n",
      "20080613_05  is not in  /home/astar/Dropbox/share(han-shuji)/KDE/4_MRI2atlas_AAL_thr_2hao/\n",
      "20080613_06  is not in  /home/astar/Dropbox/share(han-shuji)/KDE/4_MRI2atlas_AAL_thr_2hao/\n",
      "20081127_12  is not in  /home/astar/Dropbox/share(han-shuji)/KDE/4_MRI2atlas_AAL_thr_2hao/\n",
      "402 402\n"
     ]
    }
   ],
   "source": [
    "feature_path = '/home/astar/Dropbox/share(han-shuji)/KDE/4_MRI2atlas_AAL_thr_2hao/'\n",
    "features = []\n",
    "labels = []\n",
    "for key in labels_dict:\n",
    "    if os.path.isfile(os.path.join(feature_path, key+'.mat')):\n",
    "        # Load feature mat file\n",
    "        key_mat = sio.loadmat(os.path.join(feature_path, key+'.mat'))\n",
    "        features.append(np.triu(key_mat['Wauc']).flatten().tolist())\n",
    "        labels.append(labels_dict[key])\n",
    "    else:\n",
    "        print key, ' is not in ', feature_path\n",
    "print len(features), len(labels)\n",
    "        "
   ]
  },
  {
   "cell_type": "code",
   "execution_count": 6,
   "metadata": {},
   "outputs": [],
   "source": [
    "from sklearn.model_selection import cross_val_score\n",
    "from sklearn.neural_network import MLPClassifier\n",
    "from sklearn.neighbors import KNeighborsClassifier\n",
    "from sklearn.svm import SVC\n",
    "from sklearn.gaussian_process import GaussianProcessClassifier\n",
    "from sklearn.gaussian_process.kernels import RBF\n",
    "from sklearn.tree import DecisionTreeClassifier\n",
    "from sklearn.ensemble import RandomForestClassifier, AdaBoostClassifier\n",
    "from sklearn.naive_bayes import GaussianNB\n",
    "from sklearn.discriminant_analysis import QuadraticDiscriminantAnalysis"
   ]
  },
  {
   "cell_type": "code",
   "execution_count": 7,
   "metadata": {
    "collapsed": true
   },
   "outputs": [],
   "source": [
    "names = [\"Nearest Neighbors\", \"Linear SVM\", \"RBF SVM\", \"Gaussian Process\",\n",
    "         \"Decision Tree\", \"Random Forest\", \"AdaBoost\",\n",
    "         \"Naive Bayes\", \"QDA\", \"Neural Net\"]\n",
    "\n",
    "classifiers = [\n",
    "    KNeighborsClassifier(3),\n",
    "    SVC(kernel=\"linear\", C=0.025),\n",
    "    SVC(gamma=2, C=1),\n",
    "    GaussianProcessClassifier(1.0 * RBF(1.0), warm_start=True),\n",
    "    DecisionTreeClassifier(max_depth=5),\n",
    "    RandomForestClassifier(max_depth=5, n_estimators=10, max_features=1),\n",
    "    MLPClassifier(alpha=1),\n",
    "    AdaBoostClassifier(),\n",
    "    GaussianNB(),\n",
    "    QuadraticDiscriminantAnalysis()]"
   ]
  },
  {
   "cell_type": "code",
   "execution_count": 8,
   "metadata": {},
   "outputs": [
    {
     "name": "stdout",
     "output_type": "stream",
     "text": [
      "Nearest Neighbors 0.532316768245\n",
      "Linear SVM 0.582103844351\n",
      "RBF SVM 0.606950304735\n",
      "Gaussian Process 0.582103844351\n",
      "Decision Tree 0.58494569464\n",
      "Random Forest 0.589481168933\n"
     ]
    },
    {
     "name": "stderr",
     "output_type": "stream",
     "text": [
      "/usr/local/lib/python2.7/dist-packages/sklearn/neural_network/multilayer_perceptron.py:563: ConvergenceWarning: Stochastic Optimizer: Maximum iterations reached and the optimization hasn't converged yet.\n",
      "  % (), ConvergenceWarning)\n"
     ]
    },
    {
     "name": "stdout",
     "output_type": "stream",
     "text": [
      "AdaBoost 0.661426394749\n",
      "Naive Bayes 0.684366307236\n",
      "QDA 0.604136974527\n"
     ]
    },
    {
     "name": "stderr",
     "output_type": "stream",
     "text": [
      "/usr/local/lib/python2.7/dist-packages/sklearn/discriminant_analysis.py:695: UserWarning: Variables are collinear\n",
      "  warnings.warn(\"Variables are collinear\")\n"
     ]
    },
    {
     "name": "stdout",
     "output_type": "stream",
     "text": [
      "Neural Net 0.532160884513\n"
     ]
    }
   ],
   "source": [
    "# iterate over classifiers\n",
    "for name, clf in zip(names, classifiers):\n",
    "    scores = cross_val_score(clf, features, labels, cv=5)\n",
    "    print name, np.mean(scores)"
   ]
  },
  {
   "cell_type": "code",
   "execution_count": null,
   "metadata": {
    "collapsed": true
   },
   "outputs": [],
   "source": []
  }
 ],
 "metadata": {
  "kernelspec": {
   "display_name": "Python 2",
   "language": "python",
   "name": "python2"
  },
  "language_info": {
   "codemirror_mode": {
    "name": "ipython",
    "version": 2
   },
   "file_extension": ".py",
   "mimetype": "text/x-python",
   "name": "python",
   "nbconvert_exporter": "python",
   "pygments_lexer": "ipython2",
   "version": "2.7.12"
  }
 },
 "nbformat": 4,
 "nbformat_minor": 2
}
